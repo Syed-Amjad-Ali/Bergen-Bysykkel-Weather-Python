{
 "cells": [
  {
   "cell_type": "markdown",
   "id": "eba5cbcf",
   "metadata": {},
   "source": [
    "# Bergen Bysykkel 2024: Weather and Usage Analysis in Python\n",
    "**Author**: Syed Amjad Ali\n",
    "\n",
    "---\n",
    "\n",
    "## Introduction\n",
    "\n",
    "This notebook analyzes Bergen Bysykkel rental patterns using 2024 data, integrating weather data for advanced predictive modeling. It aims to:\n",
    "- Understand bike usage trends by station and time of day.\n",
    "- Predict hourly ride counts to optimize station capacity.\n",
    "- Explore weather's impact on ride patterns.\n",
    "\n",
    "---\n",
    "\n",
    "## Table of Contents\n",
    "1. [Introduction](#introduction)\n",
    "2. [Part 1: Exploratory Analysis](#part-1-exploratory-analysis)\n",
    "    - [Data Collection](#data-collection)\n",
    "    - [Data Cleaning](#data-cleaning)\n",
    "3. [Part 2: Predictive Analytics](#part-2-predictive-analytics)\n",
    "    - [Regression Models](#regression-models)\n",
    "    - [Weather Data Integration](#weather-data-integration)\n",
    "4. [Conclusion](#conclusion)\n",
    "\n"
   ]
  },
  {
   "cell_type": "markdown",
   "id": "81637a0e",
   "metadata": {},
   "source": [
    "## Introduction\n",
    "<a id=\"introduction\"></a>\n",
    "\n",
    "This notebook analyzes Bergen Bysykkel rental patterns using 2024 data, integrating weather data for advanced predictive modeling. It aims to:\n",
    "- Understand bike usage trends by station and time of day.\n",
    "- Predict hourly ride counts to optimize station capacity.\n",
    "- Explore weather's impact on ride patterns.\n"
   ]
  },
  {
   "cell_type": "markdown",
   "id": "5ad5d2b6",
   "metadata": {},
   "source": [
    "## Part 1: Exploratory Analysis\n",
    "<a id=\"part-1-exploratory-analysis\"></a>\n",
    "\n"
   ]
  },
  {
   "cell_type": "code",
   "execution_count": null,
   "id": "65b80c70",
   "metadata": {},
   "outputs": [],
   "source": [
    "# Importing required libraries for data manipulation and visualization\n",
    "import pandas as pd\n",
    "import numpy as np\n",
    "import matplotlib.pyplot as plt\n",
    "import seaborn as sns\n",
    "\n",
    "# Set global plotting style\n",
    "sns.set(style=\"whitegrid\")\n",
    "\n",
    "\n"
   ]
  },
  {
   "cell_type": "markdown",
   "id": "9bbed90d",
   "metadata": {},
   "source": [
    "### Data Collection\n",
    "<a id=\"data-collection\"></a>\n"
   ]
  },
  {
   "cell_type": "code",
   "execution_count": null,
   "id": "da3448de",
   "metadata": {},
   "outputs": [],
   "source": [
    "# Load CSV files (placeholder for combining monthly data)\n",
    "# Replace 'path/to/files' with the actual path to your datasets\n",
    "file_list = [f\"path/to/files/month_{i}.csv\" for i in range(1, 13)]\n",
    "bike_data = pd.concat([pd.read_csv(file) for file in file_list], ignore_index=True)\n",
    "\n",
    "print(\"Bike data successfully loaded and combined.\")"
   ]
  },
  {
   "cell_type": "markdown",
   "id": "50c052d5",
   "metadata": {},
   "source": [
    "### Data Cleaning\n",
    "<a id=\"data-cleaning\"></a>\n",
    "\n"
   ]
  },
  {
   "cell_type": "code",
   "execution_count": null,
   "id": "3872f3d9",
   "metadata": {},
   "outputs": [],
   "source": [
    "# Convert timestamps and add derived features\n",
    "bike_data['started_at'] = pd.to_datetime(bike_data['started_at'])\n",
    "bike_data['hour'] = bike_data['started_at'].dt.hour\n",
    "bike_data['weekday'] = bike_data['started_at'].dt.dayofweek  # Monday = 0, Sunday = 6\n",
    "\n",
    "# Aggregate ride counts by station, date, and hour\n",
    "ride_counts = bike_data.groupby(['start_station_id', 'weekday', 'hour']).size().reset_index(name='ride_count')\n",
    "\n",
    "print(ride_counts.head())\n"
   ]
  },
  {
   "cell_type": "markdown",
   "id": "375127e2",
   "metadata": {},
   "source": [
    "### Exploratory Data Analysis (EDA)\n",
    "- Visualize hourly ride patterns.\n",
    "- Identify station-level trends.\n"
   ]
  },
  {
   "cell_type": "code",
   "execution_count": null,
   "id": "6ea81aec",
   "metadata": {},
   "outputs": [],
   "source": [
    "# Plot hourly ride counts\n",
    "plt.figure(figsize=(12, 6))\n",
    "sns.lineplot(data=ride_counts, x='hour', y='ride_count', hue='weekday', palette='viridis')\n",
    "plt.title('Hourly Ride Counts by Weekday')\n",
    "plt.xlabel('Hour of the Day')\n",
    "plt.ylabel('Ride Count')\n",
    "plt.legend(title='Weekday', labels=['Mon', 'Tue', 'Wed', 'Thu', 'Fri', 'Sat', 'Sun'])\n",
    "plt.show()\n"
   ]
  },
  {
   "cell_type": "markdown",
   "id": "4d29224f",
   "metadata": {},
   "source": [
    "## Part 2: Predictive Analytics\n",
    "<a id=\"part-2-predictive-analytics\"></a>\n",
    "\n"
   ]
  },
  {
   "cell_type": "code",
   "execution_count": null,
   "id": "d429d762",
   "metadata": {},
   "outputs": [],
   "source": [
    "# Importing required libraries for machine learning\n",
    "from sklearn.model_selection import train_test_split\n",
    "from sklearn.linear_model import LinearRegression\n",
    "from sklearn.metrics import mean_squared_error, r2_score\n",
    "\n",
    "# Prepare data for modeling\n",
    "X = ride_counts[['weekday', 'hour']]  # Features\n",
    "y = ride_counts['ride_count']  # Target variable\n",
    "\n",
    "# Train-test split\n",
    "X_train, X_test, y_train, y_test = train_test_split(X, y, test_size=0.25, random_state=42)\n",
    "\n",
    "# Fit a simple linear regression model\n",
    "model = LinearRegression()\n",
    "model.fit(X_train, y_train)\n",
    "\n",
    "# Predict and evaluate\n",
    "y_pred = model.predict(X_test)\n",
    "print(f\"Mean Squared Error: {mean_squared_error(y_test, y_pred):.2f}\")\n",
    "print(f\"R² Score: {r2_score(y_test, y_pred):.2f}\")\n"
   ]
  },
  {
   "cell_type": "markdown",
   "id": "f30f2060",
   "metadata": {},
   "source": [
    "### Regression Models\n",
    "<a id=\"regression-models\"></a>\n"
   ]
  },
  {
   "cell_type": "code",
   "execution_count": null,
   "id": "f4c22c5d",
   "metadata": {},
   "outputs": [],
   "source": []
  },
  {
   "cell_type": "markdown",
   "id": "d0adcf40",
   "metadata": {},
   "source": [
    "### Weather Data Integration\n",
    "<a id=\"weather-data-integration\"></a>\n"
   ]
  },
  {
   "cell_type": "code",
   "execution_count": null,
   "id": "cd745631",
   "metadata": {},
   "outputs": [],
   "source": [
    "# Load weather data\n",
    "# Replace 'path/to/weather_data.csv' with the actual path\n",
    "weather_data = pd.read_csv(\"path/to/weather_data.csv\")\n",
    "\n",
    "# Merge weather data with ride counts\n",
    "ride_weather_data = pd.merge(ride_counts, weather_data, on=['date', 'hour'], how='inner')\n",
    "\n",
    "print(\"Combined data preview:\")\n",
    "print(ride_weather_data.head())\n"
   ]
  },
  {
   "cell_type": "markdown",
   "id": "ee90daf1",
   "metadata": {},
   "source": [
    "### Results and Insights\n",
    "- Evaluate the impact of weather on ride patterns.\n",
    "- Visualize model predictions and compare with actual data.\n"
   ]
  },
  {
   "cell_type": "code",
   "execution_count": null,
   "id": "bc95baad",
   "metadata": {},
   "outputs": [],
   "source": [
    "# Visualize predictions vs actual values\n",
    "plt.figure(figsize=(12, 6))\n",
    "plt.scatter(y_test, y_pred, alpha=0.6)\n",
    "plt.plot([y_test.min(), y_test.max()], [y_test.min(), y_test.max()], '--', color='red')\n",
    "plt.title('Predicted vs Actual Ride Counts')\n",
    "plt.xlabel('Actual Ride Counts')\n",
    "plt.ylabel('Predicted Ride Counts')\n",
    "plt.show()\n"
   ]
  },
  {
   "cell_type": "markdown",
   "id": "59c4b6b8",
   "metadata": {},
   "source": [
    "## Conclusion\n",
    "<a id=\"conclusion\"></a>\n",
    "\n"
   ]
  },
  {
   "cell_type": "code",
   "execution_count": null,
   "id": "7b7cd68e",
   "metadata": {},
   "outputs": [],
   "source": []
  },
  {
   "cell_type": "code",
   "execution_count": null,
   "id": "8b1bcc0d",
   "metadata": {},
   "outputs": [],
   "source": []
  },
  {
   "cell_type": "code",
   "execution_count": null,
   "id": "225eb70c",
   "metadata": {},
   "outputs": [],
   "source": []
  }
 ],
 "metadata": {
  "kernelspec": {
   "display_name": "Python 3 (ipykernel)",
   "language": "python",
   "name": "python3"
  },
  "language_info": {
   "codemirror_mode": {
    "name": "ipython",
    "version": 3
   },
   "file_extension": ".py",
   "mimetype": "text/x-python",
   "name": "python",
   "nbconvert_exporter": "python",
   "pygments_lexer": "ipython3",
   "version": "3.11.5"
  }
 },
 "nbformat": 4,
 "nbformat_minor": 5
}
